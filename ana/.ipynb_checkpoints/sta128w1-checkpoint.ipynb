{
 "cells": [
  {
   "cell_type": "code",
   "execution_count": 1,
   "metadata": {},
   "outputs": [
    {
     "name": "stdout",
     "output_type": "stream",
     "text": [
      "sta128w1\n"
     ]
    }
   ],
   "source": [
    "scriptname = 'sta128w1'\n",
    "print(scriptname)"
   ]
  },
  {
   "cell_type": "code",
   "execution_count": 4,
   "metadata": {},
   "outputs": [
    {
     "name": "stdout",
     "output_type": "stream",
     "text": [
      "v1 length=10, sum=49, mean=4.9, mode=4, stdev=2.6012817353502227\n"
     ]
    }
   ],
   "source": [
    "from statistics import *\n",
    "v1 = [1,2,3,4,4,5,6,7,8,9]\n",
    "v1len = len(v1)\n",
    "v1sum = sum(v1)\n",
    "v1mean = mean(v1)\n",
    "v1mode = mode(v1)\n",
    "v1std = stdev(v1)\n",
    "print('v1 length={}, sum={}, mean={}, mode={}, stdev={}'.format(v1len, v1sum, v1mean, v1mode, v1std))"
   ]
  },
  {
   "cell_type": "code",
   "execution_count": null,
   "metadata": {},
   "outputs": [],
   "source": []
  }
 ],
 "metadata": {
  "kernelspec": {
   "display_name": "Python 3",
   "language": "python",
   "name": "python3"
  },
  "language_info": {
   "codemirror_mode": {
    "name": "ipython",
    "version": 3
   },
   "file_extension": ".py",
   "mimetype": "text/x-python",
   "name": "python",
   "nbconvert_exporter": "python",
   "pygments_lexer": "ipython3",
   "version": "3.7.1"
  }
 },
 "nbformat": 4,
 "nbformat_minor": 2
}
